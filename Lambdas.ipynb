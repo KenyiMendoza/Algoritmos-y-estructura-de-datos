{
  "nbformat": 4,
  "nbformat_minor": 0,
  "metadata": {
    "colab": {
      "name": "Lambdas.ipynb",
      "provenance": [],
      "collapsed_sections": [],
      "authorship_tag": "ABX9TyPfhsLVMi+eY5D6m5C2Utls",
      "include_colab_link": true
    },
    "kernelspec": {
      "name": "python3",
      "display_name": "Python 3"
    },
    "language_info": {
      "name": "python"
    }
  },
  "cells": [
    {
      "cell_type": "markdown",
      "metadata": {
        "id": "view-in-github",
        "colab_type": "text"
      },
      "source": [
        "<a href=\"https://colab.research.google.com/github/KenyiMendoza/Algoritmos-y-estructura-de-datos/blob/main/Lambdas.ipynb\" target=\"_parent\"><img src=\"https://colab.research.google.com/assets/colab-badge.svg\" alt=\"Open In Colab\"/></a>"
      ]
    },
    {
      "cell_type": "code",
      "execution_count": 3,
      "metadata": {
        "colab": {
          "base_uri": "https://localhost:8080/"
        },
        "id": "qLhDrwTgKDuo",
        "outputId": "a241c328-4c8c-45f5-c1d4-061a7cc7e822"
      },
      "outputs": [
        {
          "output_type": "stream",
          "name": "stdout",
          "text": [
            "Overwriting ejemplo1.cpp\n"
          ]
        }
      ],
      "source": [
        "%%writefile ejemplo1.cpp\n",
        "#include <iostream>\n",
        "#include <functional>\n",
        "using std::function;\n",
        "using std::cout;\n",
        "using std::endl;\n",
        "int suma(int a, int b){ return a+b;}\n",
        "int resta(int a, int b){ return a-b;}\n",
        "int multiplica(int a, int b){ return a*b;}\n",
        "int divide(int a, int b){ return a/b;}\n",
        "\n",
        "void operacion(function<int(int,int)>f){\n",
        "    cout<<f(8,4)<<endl;\n",
        "}\n",
        "int main(){\n",
        "    operacion(suma);\n",
        "    operacion(resta);\n",
        "    operacion(multiplica);\n",
        "    operacion(divide);\n",
        "}"
      ]
    },
    {
      "cell_type": "code",
      "source": [
        "!g++ ejemplo1.cpp && ./a.out"
      ],
      "metadata": {
        "colab": {
          "base_uri": "https://localhost:8080/"
        },
        "id": "wOBNh0AeVEog",
        "outputId": "b443c7fe-ef36-40df-b912-0f217053b480"
      },
      "execution_count": 4,
      "outputs": [
        {
          "output_type": "stream",
          "name": "stdout",
          "text": [
            "12\n",
            "4\n",
            "32\n",
            "2\n"
          ]
        }
      ]
    },
    {
      "cell_type": "code",
      "source": [
        "%%writefile ejemplo1.cpp\n",
        "#include <iostream>\n",
        "#include <functional>\n",
        "using std::function;\n",
        "using std::cout;\n",
        "using std::endl;\n",
        "\n",
        "\n",
        "void operacion(function<int(int,int)>f){\n",
        "    cout<<f(8,4)<<endl;\n",
        "}\n",
        "int main(){\n",
        "    auto suma=[] (int a, int b){ return a+b;};\n",
        "    auto resta=[] (int a, int b){ return a-b;};\n",
        "    auto multiplica=[](int a, int b){ return a*b;};\n",
        "    function<int(int,int)>divide=[](int a, int b){return a/b};\n",
        "    operacion(suma);\n",
        "    operacion(resta);\n",
        "    operacion(multiplica);\n",
        "    operacion(divide);\n",
        "}"
      ],
      "metadata": {
        "colab": {
          "base_uri": "https://localhost:8080/"
        },
        "id": "tWCMn5oKVZwo",
        "outputId": "2794a979-5259-4dbf-a1f9-80d551fc6707"
      },
      "execution_count": 5,
      "outputs": [
        {
          "output_type": "stream",
          "name": "stdout",
          "text": [
            "Overwriting ejemplo1.cpp\n"
          ]
        }
      ]
    },
    {
      "cell_type": "code",
      "source": [
        "!g++ ejemplo1.cpp && ./a.out"
      ],
      "metadata": {
        "colab": {
          "base_uri": "https://localhost:8080/"
        },
        "id": "uMid_1ANYnHe",
        "outputId": "082c3877-b5e3-455b-c724-8b2ca271fb29"
      },
      "execution_count": 7,
      "outputs": [
        {
          "output_type": "stream",
          "name": "stdout",
          "text": [
            "12\n",
            "4\n",
            "32\n",
            "2\n"
          ]
        }
      ]
    },
    {
      "cell_type": "markdown",
      "source": [
        "#Ejercicio \n",
        "Vizcarra declaro medidas:\n",
        "\n",
        "*   lunes,miercoles y viernes salen los varones\n",
        "*   martes,jueves y sabado salen las mujeres\n",
        "*   domingo nadie sale\n",
        " \n",
        "simular haciendo uso de lambdas y functores"
      ],
      "metadata": {
        "id": "SAD3ox0LbHdV"
      }
    },
    {
      "cell_type": "code",
      "source": [
        "%%writefile ejemplo2.cpp\n",
        "#include <iostream> // cout, cin\n",
        "#include <functional> // function\n",
        "using namespace std; // cout, cin\n",
        "void salir(function<void()> f){\n",
        "    f(); }\n",
        "int main(){\n",
        "    unsigned short dia;\n",
        "    function <void()> f1 = [](){cout<<\"Salen hombres\" << endl;};\n",
        "    function <void()> f2 = [](){cout<<\"Salen mujeres\"<< endl;};\n",
        "    function <void()> f3 = [](){cout<<\"Inmovilizacion\"<< endl;};\n",
        "    cout <<\"Ingrese dia : \";\n",
        "    cin>> dia;\n",
        "    switch(dia){\n",
        "        case 1: case 3: case 5: salir(f1); break;\n",
        "         case 2: case 4: case 6: salir(f2); break;\n",
        "         case 7: salir(f3);break;\n",
        "    }\n",
        "}"
      ],
      "metadata": {
        "colab": {
          "base_uri": "https://localhost:8080/"
        },
        "id": "40ZCLp88bejv",
        "outputId": "ff1e388b-26dc-450c-dd20-e5a3841b9810"
      },
      "execution_count": 15,
      "outputs": [
        {
          "output_type": "stream",
          "name": "stdout",
          "text": [
            "Overwriting ejemplo2.cpp\n"
          ]
        }
      ]
    },
    {
      "cell_type": "code",
      "source": [
        "!g++ ejemplo2.cpp && ./a.out"
      ],
      "metadata": {
        "colab": {
          "base_uri": "https://localhost:8080/"
        },
        "id": "LuCmfrkKhYZG",
        "outputId": "568b6807-5d3c-4328-e425-e3b7c655bb48"
      },
      "execution_count": 16,
      "outputs": [
        {
          "output_type": "stream",
          "name": "stdout",
          "text": [
            "Ingrese dia : 4\n",
            "Salen mujeres\n"
          ]
        }
      ]
    },
    {
      "cell_type": "code",
      "source": [
        ""
      ],
      "metadata": {
        "id": "9yzVizhdiYoQ"
      },
      "execution_count": null,
      "outputs": []
    }
  ]
}