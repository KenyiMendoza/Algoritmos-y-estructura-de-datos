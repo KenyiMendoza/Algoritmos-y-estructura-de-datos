{
  "nbformat": 4,
  "nbformat_minor": 0,
  "metadata": {
    "colab": {
      "name": "Templates.ipynb",
      "provenance": [],
      "authorship_tag": "ABX9TyMEPaxlyCbWoS2z94la5zlL",
      "include_colab_link": true
    },
    "kernelspec": {
      "name": "python3",
      "display_name": "Python 3"
    },
    "language_info": {
      "name": "python"
    }
  },
  "cells": [
    {
      "cell_type": "markdown",
      "metadata": {
        "id": "view-in-github",
        "colab_type": "text"
      },
      "source": [
        "<a href=\"https://colab.research.google.com/github/KenyiMendoza/Algoritmos-y-estructura-de-datos/blob/main/Templates.ipynb\" target=\"_parent\"><img src=\"https://colab.research.google.com/assets/colab-badge.svg\" alt=\"Open In Colab\"/></a>"
      ]
    },
    {
      "cell_type": "markdown",
      "source": [
        "EJEMPLO 1\n"
      ],
      "metadata": {
        "id": "tcwGsoHQ5Jfh"
      }
    },
    {
      "cell_type": "code",
      "execution_count": null,
      "metadata": {
        "colab": {
          "base_uri": "https://localhost:8080/"
        },
        "id": "kIRK5-jf3Q3G",
        "outputId": "5e9aa661-1edd-417c-c0cf-3e58534e516e"
      },
      "outputs": [
        {
          "output_type": "stream",
          "name": "stdout",
          "text": [
            "Overwriting programa1.cpp\n"
          ]
        }
      ],
      "source": [
        "%%writefile programa1.cpp\n",
        "#include <iostream>\n",
        "using namespace std;\n",
        "int main(){\n",
        "    cout << \"Nos vamos por la victoria\";\n",
        "    return 0;\n",
        "\n",
        "}\n"
      ]
    },
    {
      "cell_type": "code",
      "source": [
        "!g++ programa1.cpp"
      ],
      "metadata": {
        "id": "nxJnAPS-4EN-"
      },
      "execution_count": null,
      "outputs": []
    },
    {
      "cell_type": "code",
      "source": [
        "!./a.out"
      ],
      "metadata": {
        "colab": {
          "base_uri": "https://localhost:8080/"
        },
        "id": "Fnl9yR8G44ee",
        "outputId": "55a889fa-be3a-4a5a-a51e-ee6c7683f92f"
      },
      "execution_count": null,
      "outputs": [
        {
          "output_type": "stream",
          "name": "stdout",
          "text": [
            "Nos vamos por la victoria"
          ]
        }
      ]
    },
    {
      "cell_type": "markdown",
      "source": [
        "EJEMPLO2"
      ],
      "metadata": {
        "id": "DzvkO_CmBVD_"
      }
    },
    {
      "cell_type": "code",
      "source": [
        "%%writefile biblioteca.hpp\n",
        "//Definicion de bibliotecas, clases y funciones\n",
        "#include <iostream>\n",
        "#include <cstdlib>// srand, rand\n",
        "#include <ctime>//time\n",
        "using std::cout;\n",
        "using std::cin;\n",
        "//definición de la funcion\n",
        "void generar(short* a, size_t n);\n",
        "void listar(short*, size_t);\n",
        "void mayor(short*, size_t);\n",
        "void ordenar(short*, size_t);\n",
        "void mayorPromedio(short* a, size_t n);"
      ],
      "metadata": {
        "colab": {
          "base_uri": "https://localhost:8080/"
        },
        "id": "Gj5zxyyY-1Ar",
        "outputId": "5fd2bb96-ced1-499d-fcc8-42e455711f6f"
      },
      "execution_count": null,
      "outputs": [
        {
          "output_type": "stream",
          "name": "stdout",
          "text": [
            "Overwriting biblioteca.hpp\n"
          ]
        }
      ]
    },
    {
      "cell_type": "code",
      "source": [
        "%%writefile biblioteca.cpp\n",
        "//implementacion de las bibliotecas, clases  y funciones\n",
        "#include \"biblioteca.hpp\"\n",
        "\n",
        "void generar(short* a, size_t n){\n",
        "  for(size_t i=0;i<n;++i){\n",
        "      a[i]=rand()%101+100;//rango de 100 a 200    \n",
        "  }  \n",
        "}\n",
        "\n",
        "void listar(short* a, size_t n){\n",
        "for(size_t i=0;i<n;++i){\n",
        "      cout<<i<<\"-> \"<<a[i]<<\"\\n\";\n",
        "  }  \n",
        "}\n",
        "\n",
        "void mayor(short* a, size_t n){\n",
        "  short _mayor=a[0], _pos=-1;\n",
        "  \n",
        "for(size_t i=1;i<n;++i){\n",
        "  if(a[i]>_mayor){\n",
        "      _mayor=a[i];//actualizo el mayor\n",
        "      _pos=i;\n",
        "    }\n",
        "  }\n",
        "  cout<<\"El mayor valor es\"<<_mayor<<\" y se encuentra en la posicion\"<<_pos<<\"\\n\";\n",
        "}\n",
        "void ordenar(short* a, size_t n){\n",
        "  for(int i=0;i<n-1;++i){\n",
        "  for(int j=i+1;j<n;++j){\n",
        "   if(a[i]>a[j]){\n",
        "    short aux=a[i];\n",
        "    a[i]=a[j];\n",
        "    a[j]=aux;\n",
        "  }\n",
        "}\n",
        "    }\n",
        "}\n",
        "void mayorPromedio(short* a, size_t n){\n",
        "  float prom=0.0f;    \n",
        "  //obteniendo el promedio\n",
        "  for(int i=0;i<n;++i)\n",
        "        prom+=a[i];\n",
        "  prom/=n;//prom=prom/n   \n",
        "  //listar mayor al promedio\n",
        "  for(int i=0;i<n;++i)\n",
        "        if(a[i]>prom)cout<<i<<\"->\"<<a[i]<<\"\\n\";\n",
        "  }\n"
      ],
      "metadata": {
        "colab": {
          "base_uri": "https://localhost:8080/"
        },
        "id": "ov_hite_9-3L",
        "outputId": "321a614b-1e8e-44b8-c002-66a9f9f9a375"
      },
      "execution_count": null,
      "outputs": [
        {
          "output_type": "stream",
          "name": "stdout",
          "text": [
            "Overwriting biblioteca.cpp\n"
          ]
        }
      ]
    },
    {
      "cell_type": "code",
      "source": [
        "%%writefile ejercicio2.cpp\n",
        "#include \"biblioteca.hpp\"\n",
        "int main() {\n",
        "short* arreglo=new short[100];  \n",
        "srand(time(NULL));//inicializacion de la semilla\n",
        "generar(arreglo,100);\n",
        "listar(arreglo, 100);\n",
        "//mayor(arreglo, 100);  \n",
        "ordenar(arreglo, 100);\n",
        "cout<<\"-------------\\n\";\n",
        "//listar(arreglo, 100);\n",
        "  mayorPromedio(arreglo, 100);\n",
        "}"
      ],
      "metadata": {
        "colab": {
          "base_uri": "https://localhost:8080/"
        },
        "id": "_sWkvVGg4-DL",
        "outputId": "87f5f4cf-5aed-4076-d847-bb42dd8c7aee"
      },
      "execution_count": null,
      "outputs": [
        {
          "output_type": "stream",
          "name": "stdout",
          "text": [
            "Overwriting ejercicio2.cpp\n"
          ]
        }
      ]
    },
    {
      "cell_type": "code",
      "source": [
        "!g++ biblioteca.cpp ejercicio2.cpp  && ./a.out"
      ],
      "metadata": {
        "colab": {
          "base_uri": "https://localhost:8080/"
        },
        "id": "GDTfQzXL99K3",
        "outputId": "2c7573c3-ae6b-4727-b180-3c67b25b5cab"
      },
      "execution_count": null,
      "outputs": [
        {
          "output_type": "stream",
          "name": "stdout",
          "text": [
            "0-> 107\n",
            "1-> 182\n",
            "2-> 168\n",
            "3-> 147\n",
            "4-> 193\n",
            "5-> 178\n",
            "6-> 155\n",
            "7-> 154\n",
            "8-> 116\n",
            "9-> 145\n",
            "10-> 102\n",
            "11-> 154\n",
            "12-> 134\n",
            "13-> 189\n",
            "14-> 150\n",
            "15-> 112\n",
            "16-> 133\n",
            "17-> 175\n",
            "18-> 189\n",
            "19-> 116\n",
            "20-> 168\n",
            "21-> 150\n",
            "22-> 159\n",
            "23-> 196\n",
            "24-> 190\n",
            "25-> 175\n",
            "26-> 120\n",
            "27-> 106\n",
            "28-> 170\n",
            "29-> 142\n",
            "30-> 139\n",
            "31-> 178\n",
            "32-> 123\n",
            "33-> 107\n",
            "34-> 124\n",
            "35-> 115\n",
            "36-> 151\n",
            "37-> 145\n",
            "38-> 136\n",
            "39-> 133\n",
            "40-> 156\n",
            "41-> 104\n",
            "42-> 187\n",
            "43-> 191\n",
            "44-> 193\n",
            "45-> 103\n",
            "46-> 169\n",
            "47-> 126\n",
            "48-> 144\n",
            "49-> 157\n",
            "50-> 108\n",
            "51-> 111\n",
            "52-> 106\n",
            "53-> 167\n",
            "54-> 106\n",
            "55-> 163\n",
            "56-> 107\n",
            "57-> 193\n",
            "58-> 169\n",
            "59-> 178\n",
            "60-> 134\n",
            "61-> 108\n",
            "62-> 155\n",
            "63-> 157\n",
            "64-> 182\n",
            "65-> 145\n",
            "66-> 139\n",
            "67-> 132\n",
            "68-> 190\n",
            "69-> 141\n",
            "70-> 131\n",
            "71-> 145\n",
            "72-> 145\n",
            "73-> 118\n",
            "74-> 135\n",
            "75-> 103\n",
            "76-> 121\n",
            "77-> 104\n",
            "78-> 196\n",
            "79-> 131\n",
            "80-> 127\n",
            "81-> 103\n",
            "82-> 143\n",
            "83-> 134\n",
            "84-> 137\n",
            "85-> 115\n",
            "86-> 163\n",
            "87-> 144\n",
            "88-> 108\n",
            "89-> 131\n",
            "90-> 121\n",
            "91-> 108\n",
            "92-> 105\n",
            "93-> 142\n",
            "94-> 166\n",
            "95-> 153\n",
            "96-> 187\n",
            "97-> 171\n",
            "98-> 151\n",
            "99-> 176\n",
            "-------------\n",
            "51->145\n",
            "52->145\n",
            "53->145\n",
            "54->145\n",
            "55->145\n",
            "56->147\n",
            "57->150\n",
            "58->150\n",
            "59->151\n",
            "60->151\n",
            "61->153\n",
            "62->154\n",
            "63->154\n",
            "64->155\n",
            "65->155\n",
            "66->156\n",
            "67->157\n",
            "68->157\n",
            "69->159\n",
            "70->163\n",
            "71->163\n",
            "72->166\n",
            "73->167\n",
            "74->168\n",
            "75->168\n",
            "76->169\n",
            "77->169\n",
            "78->170\n",
            "79->171\n",
            "80->175\n",
            "81->175\n",
            "82->176\n",
            "83->178\n",
            "84->178\n",
            "85->178\n",
            "86->182\n",
            "87->182\n",
            "88->187\n",
            "89->187\n",
            "90->189\n",
            "91->189\n",
            "92->190\n",
            "93->190\n",
            "94->191\n",
            "95->193\n",
            "96->193\n",
            "97->193\n",
            "98->196\n",
            "99->196\n"
          ]
        }
      ]
    },
    {
      "cell_type": "markdown",
      "source": [
        "Ejemplo 3 con templates\n"
      ],
      "metadata": {
        "id": "c0qeebKzC9PJ"
      }
    },
    {
      "cell_type": "code",
      "source": [
        "%%writefile biblioteca3.hpp\n",
        "//Definicion de bibliotecas, clases y funciones\n",
        "#include <iostream>\n",
        "#include <cstdlib>// srand, rand\n",
        "#include <ctime>//time\n",
        "using std::cout;\n",
        "using std::cin;\n",
        "//definicion de la funcion\n",
        "template <typename Generico>\n",
        "class Arreglo{\n",
        "    Generico*a;\n",
        "    size_t n;\n",
        "    size_t id;\n",
        "public:\n",
        "    Arreglo(){\n",
        "        n=10;\n",
        "        id=0;\n",
        "        a= new Generico[n];\n",
        "    }\n",
        "    void insertar(Generico e){\n",
        "        if(id<n)\n",
        "        a[id++]=e;\n",
        "    }\n",
        "    void listar(){\n",
        "        for(size_t i=0; i<n;i++){\n",
        "            cout<<i<<\"->\"<<a[i]<<\"\\n\";\n",
        "        }\n",
        "    }\n",
        "};"
      ],
      "metadata": {
        "colab": {
          "base_uri": "https://localhost:8080/"
        },
        "id": "QPO2_KDiC_dt",
        "outputId": "54bcf248-3bf3-4e53-8577-3db2eb8e86eb"
      },
      "execution_count": null,
      "outputs": [
        {
          "output_type": "stream",
          "name": "stdout",
          "text": [
            "Overwriting biblioteca3.hpp\n"
          ]
        }
      ]
    },
    {
      "cell_type": "code",
      "source": [
        "%%writefile ejemplo3.cpp\n",
        "#include \"biblioteca3.hpp\"\n",
        "int main(){\n",
        "    Arreglo<short>* arr1=new Arreglo<short>();\n",
        "    Arreglo<float>* arr2=new Arreglo<float>();\n",
        "    Arreglo<long>* arr3=new Arreglo<long>();\n",
        "    for(size_t i=0; i<10;i++)\n",
        "        {   arr1->insertar(i); //short\n",
        "            arr2->insertar(i*1.573); //short   \n",
        "            arr3->insertar(i*10000000); //short\n",
        "        }\n",
        "      arr1->listar();cout<<\"\\n\";\n",
        "      arr2->listar();cout<<\"\\n\";\n",
        "      arr3->listar();cout<<\"\\n\";\n",
        "}"
      ],
      "metadata": {
        "colab": {
          "base_uri": "https://localhost:8080/"
        },
        "id": "bEnLBeqOI95U",
        "outputId": "991fc658-e6e0-41c5-c274-14d9413743e2"
      },
      "execution_count": null,
      "outputs": [
        {
          "output_type": "stream",
          "name": "stdout",
          "text": [
            "Overwriting ejemplo3.cpp\n"
          ]
        }
      ]
    },
    {
      "cell_type": "code",
      "source": [
        "!g++ biblioteca3.hpp ejemplo3.cpp  && ./a.out"
      ],
      "metadata": {
        "colab": {
          "base_uri": "https://localhost:8080/"
        },
        "id": "3DjDqDIEKO2G",
        "outputId": "a29efda9-799c-4458-ff20-4351365f5a66"
      },
      "execution_count": null,
      "outputs": [
        {
          "output_type": "stream",
          "name": "stdout",
          "text": [
            "0->0\n",
            "1->1\n",
            "2->2\n",
            "3->3\n",
            "4->4\n",
            "5->5\n",
            "6->6\n",
            "7->7\n",
            "8->8\n",
            "9->9\n",
            "\n",
            "0->0\n",
            "1->1.573\n",
            "2->3.146\n",
            "3->4.719\n",
            "4->6.292\n",
            "5->7.865\n",
            "6->9.438\n",
            "7->11.011\n",
            "8->12.584\n",
            "9->14.157\n",
            "\n",
            "0->0\n",
            "1->10000000\n",
            "2->20000000\n",
            "3->30000000\n",
            "4->40000000\n",
            "5->50000000\n",
            "6->60000000\n",
            "7->70000000\n",
            "8->80000000\n",
            "9->90000000\n",
            "\n"
          ]
        }
      ]
    },
    {
      "cell_type": "code",
      "source": [
        ""
      ],
      "metadata": {
        "id": "E07MbBHBKfLD"
      },
      "execution_count": null,
      "outputs": []
    }
  ]
}